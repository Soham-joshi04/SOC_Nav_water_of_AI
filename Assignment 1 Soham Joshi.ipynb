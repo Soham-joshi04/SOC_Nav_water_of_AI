{
 "cells": [
  {
   "cell_type": "code",
   "execution_count": 1,
   "id": "fb7ae8b8",
   "metadata": {},
   "outputs": [],
   "source": [
    "import numpy as np\n",
    "import pandas as pd\n",
    "import matplotlib.pyplot as plt"
   ]
  },
  {
   "cell_type": "code",
   "execution_count": 2,
   "id": "2fa6be62",
   "metadata": {},
   "outputs": [],
   "source": [
    "loanDF=pd.read_csv(\"data.csv\")"
   ]
  },
  {
   "cell_type": "markdown",
   "id": "67f5f723",
   "metadata": {},
   "source": [
    "# Data Correction\n"
   ]
  },
  {
   "cell_type": "code",
   "execution_count": 3,
   "id": "c80df2b2",
   "metadata": {},
   "outputs": [
    {
     "name": "stderr",
     "output_type": "stream",
     "text": [
      "C:\\Users\\Hello\\AppData\\Local\\Temp\\ipykernel_10076\\1338355240.py:3: UserWarning: Could not infer format, so each element will be parsed individually, falling back to `dateutil`. To ensure parsing is consistent and as-expected, please specify a format.\n",
      "  loanDF['originationDate'] = pd.to_datetime(loanDF['originationDate'])\n"
     ]
    }
   ],
   "source": [
    "loanDF.drop_duplicates(inplace=True);\n",
    "loanDF.dropna(inplace=True);\n",
    "loanDF['originationDate'] = pd.to_datetime(loanDF['originationDate'])"
   ]
  },
  {
   "cell_type": "code",
   "execution_count": 7,
   "id": "22c280f7",
   "metadata": {
    "scrolled": true
   },
   "outputs": [
    {
     "data": {
      "text/html": [
       "<div>\n",
       "<style scoped>\n",
       "    .dataframe tbody tr th:only-of-type {\n",
       "        vertical-align: middle;\n",
       "    }\n",
       "\n",
       "    .dataframe tbody tr th {\n",
       "        vertical-align: top;\n",
       "    }\n",
       "\n",
       "    .dataframe thead th {\n",
       "        text-align: right;\n",
       "    }\n",
       "</style>\n",
       "<table border=\"1\" class=\"dataframe\">\n",
       "  <thead>\n",
       "    <tr style=\"text-align: right;\">\n",
       "      <th></th>\n",
       "      <th>loanNumber</th>\n",
       "      <th>originationDate</th>\n",
       "      <th>loanAmount</th>\n",
       "      <th>loanTerm</th>\n",
       "      <th>intRate</th>\n",
       "      <th>vehicleModelName</th>\n",
       "      <th>vehicleNewUsedCode</th>\n",
       "      <th>vehicleModelYear</th>\n",
       "      <th>vehicleValueAmount</th>\n",
       "      <th>obligorCreditScore</th>\n",
       "      <th>coObligorIndicator</th>\n",
       "      <th>paymentToIncomePercentage</th>\n",
       "      <th>obligorState</th>\n",
       "      <th>scheduledInterestAmount</th>\n",
       "      <th>scheduledPrincipalAmount</th>\n",
       "      <th>beginningLoanBal</th>\n",
       "      <th>endingLoanBal</th>\n",
       "      <th>maturationDate</th>\n",
       "    </tr>\n",
       "  </thead>\n",
       "  <tbody>\n",
       "    <tr>\n",
       "      <th>0</th>\n",
       "      <td>5274786</td>\n",
       "      <td>2022-06-01</td>\n",
       "      <td>30834.27</td>\n",
       "      <td>73 months</td>\n",
       "      <td>0.0319</td>\n",
       "      <td>CAMRY</td>\n",
       "      <td>New</td>\n",
       "      <td>2022</td>\n",
       "      <td>34639.0</td>\n",
       "      <td>697</td>\n",
       "      <td>False</td>\n",
       "      <td>0.16850000</td>\n",
       "      <td>FL</td>\n",
       "      <td>78.85</td>\n",
       "      <td>392.25</td>\n",
       "      <td>29666.94</td>\n",
       "      <td>29296.33</td>\n",
       "      <td>2028/7</td>\n",
       "    </tr>\n",
       "    <tr>\n",
       "      <th>1</th>\n",
       "      <td>6224415</td>\n",
       "      <td>2017-08-01</td>\n",
       "      <td>35694.04</td>\n",
       "      <td>6 yrs</td>\n",
       "      <td>0.0190</td>\n",
       "      <td>C-HR</td>\n",
       "      <td>New</td>\n",
       "      <td>2018</td>\n",
       "      <td>23470.0</td>\n",
       "      <td>780</td>\n",
       "      <td>False</td>\n",
       "      <td>0.07520000</td>\n",
       "      <td>FL</td>\n",
       "      <td>10.68</td>\n",
       "      <td>514.25</td>\n",
       "      <td>6753.51</td>\n",
       "      <td>6234.41</td>\n",
       "      <td>6/0</td>\n",
       "    </tr>\n",
       "    <tr>\n",
       "      <th>2</th>\n",
       "      <td>5254898</td>\n",
       "      <td>2022-07-01</td>\n",
       "      <td>37729.22</td>\n",
       "      <td>62 months</td>\n",
       "      <td>0.0479</td>\n",
       "      <td>4RUNNER</td>\n",
       "      <td>New</td>\n",
       "      <td>2022</td>\n",
       "      <td>53654.0</td>\n",
       "      <td>821</td>\n",
       "      <td>False</td>\n",
       "      <td>0.22410000</td>\n",
       "      <td>NC</td>\n",
       "      <td>148.37</td>\n",
       "      <td>559.99</td>\n",
       "      <td>36639.43</td>\n",
       "      <td>36639.43</td>\n",
       "      <td>2027/9</td>\n",
       "    </tr>\n",
       "    <tr>\n",
       "      <th>3</th>\n",
       "      <td>5267640</td>\n",
       "      <td>2022-06-01</td>\n",
       "      <td>39990.00</td>\n",
       "      <td>76m</td>\n",
       "      <td>0.0399</td>\n",
       "      <td>TACOMA TRD</td>\n",
       "      <td>New</td>\n",
       "      <td>2022</td>\n",
       "      <td>40105.0</td>\n",
       "      <td>684</td>\n",
       "      <td>False</td>\n",
       "      <td>0.06570000</td>\n",
       "      <td>SC</td>\n",
       "      <td>128.25</td>\n",
       "      <td>475.06</td>\n",
       "      <td>38617.99</td>\n",
       "      <td>38136.08</td>\n",
       "      <td>2028/10</td>\n",
       "    </tr>\n",
       "    <tr>\n",
       "      <th>4</th>\n",
       "      <td>5385389</td>\n",
       "      <td>2021-11-01</td>\n",
       "      <td>33157.92</td>\n",
       "      <td>64 months</td>\n",
       "      <td>0.0199</td>\n",
       "      <td>RAV4 HYBRI</td>\n",
       "      <td>New</td>\n",
       "      <td>2021</td>\n",
       "      <td>43041.0</td>\n",
       "      <td>756</td>\n",
       "      <td>False</td>\n",
       "      <td>0.01730000</td>\n",
       "      <td>NC</td>\n",
       "      <td>46.63</td>\n",
       "      <td>508.08</td>\n",
       "      <td>28136.87</td>\n",
       "      <td>27629.24</td>\n",
       "      <td>2027/3</td>\n",
       "    </tr>\n",
       "    <tr>\n",
       "      <th>...</th>\n",
       "      <td>...</td>\n",
       "      <td>...</td>\n",
       "      <td>...</td>\n",
       "      <td>...</td>\n",
       "      <td>...</td>\n",
       "      <td>...</td>\n",
       "      <td>...</td>\n",
       "      <td>...</td>\n",
       "      <td>...</td>\n",
       "      <td>...</td>\n",
       "      <td>...</td>\n",
       "      <td>...</td>\n",
       "      <td>...</td>\n",
       "      <td>...</td>\n",
       "      <td>...</td>\n",
       "      <td>...</td>\n",
       "      <td>...</td>\n",
       "      <td>...</td>\n",
       "    </tr>\n",
       "    <tr>\n",
       "      <th>50038</th>\n",
       "      <td>6092858</td>\n",
       "      <td>2018-04-01</td>\n",
       "      <td>38662.94</td>\n",
       "      <td>61 months</td>\n",
       "      <td>0.0190</td>\n",
       "      <td>TUNDRA 4X4</td>\n",
       "      <td>New</td>\n",
       "      <td>2018</td>\n",
       "      <td>44730.0</td>\n",
       "      <td>862</td>\n",
       "      <td>True</td>\n",
       "      <td>0.07520000</td>\n",
       "      <td>NC</td>\n",
       "      <td>7.44</td>\n",
       "      <td>668.53</td>\n",
       "      <td>4672.68</td>\n",
       "      <td>4003.23</td>\n",
       "      <td>2023/5</td>\n",
       "    </tr>\n",
       "    <tr>\n",
       "      <th>50039</th>\n",
       "      <td>6100955</td>\n",
       "      <td>2018-03-01</td>\n",
       "      <td>21000.00</td>\n",
       "      <td>62 months</td>\n",
       "      <td>0.0090</td>\n",
       "      <td>COROLLA</td>\n",
       "      <td>New</td>\n",
       "      <td>2018</td>\n",
       "      <td>22904.0</td>\n",
       "      <td>832</td>\n",
       "      <td>False</td>\n",
       "      <td>0.10850000</td>\n",
       "      <td>NC</td>\n",
       "      <td>1.87</td>\n",
       "      <td>356.19</td>\n",
       "      <td>2500.53</td>\n",
       "      <td>2144.18</td>\n",
       "      <td>2023/5</td>\n",
       "    </tr>\n",
       "    <tr>\n",
       "      <th>50040</th>\n",
       "      <td>5244136</td>\n",
       "      <td>2022-08-01</td>\n",
       "      <td>35417.32</td>\n",
       "      <td>61m</td>\n",
       "      <td>0.0624</td>\n",
       "      <td>TACOMA SR5</td>\n",
       "      <td>New</td>\n",
       "      <td>2022</td>\n",
       "      <td>35283.0</td>\n",
       "      <td>750</td>\n",
       "      <td>True</td>\n",
       "      <td>0.07890000</td>\n",
       "      <td>FL</td>\n",
       "      <td>181.54</td>\n",
       "      <td>507.12</td>\n",
       "      <td>34900.95</td>\n",
       "      <td>34382.46</td>\n",
       "      <td>2027/9</td>\n",
       "    </tr>\n",
       "    <tr>\n",
       "      <th>50041</th>\n",
       "      <td>6118657</td>\n",
       "      <td>2018-02-01</td>\n",
       "      <td>26315.52</td>\n",
       "      <td>78 months</td>\n",
       "      <td>0.0569</td>\n",
       "      <td>CAMRY</td>\n",
       "      <td>New</td>\n",
       "      <td>2018</td>\n",
       "      <td>25589.0</td>\n",
       "      <td>757</td>\n",
       "      <td>False</td>\n",
       "      <td>0.24800000</td>\n",
       "      <td>NC</td>\n",
       "      <td>41.29</td>\n",
       "      <td>376.48</td>\n",
       "      <td>8815.59</td>\n",
       "      <td>8432.39</td>\n",
       "      <td>2024/8</td>\n",
       "    </tr>\n",
       "    <tr>\n",
       "      <th>50042</th>\n",
       "      <td>5281029</td>\n",
       "      <td>2022-05-01</td>\n",
       "      <td>47025.38</td>\n",
       "      <td>6y</td>\n",
       "      <td>0.0654</td>\n",
       "      <td>HIGHLANDER</td>\n",
       "      <td>New</td>\n",
       "      <td>2022</td>\n",
       "      <td>54504.0</td>\n",
       "      <td>718</td>\n",
       "      <td>False</td>\n",
       "      <td>0.12250000</td>\n",
       "      <td>AR</td>\n",
       "      <td>245.09</td>\n",
       "      <td>520.44</td>\n",
       "      <td>44743.48</td>\n",
       "      <td>44167.96</td>\n",
       "      <td>6/0</td>\n",
       "    </tr>\n",
       "  </tbody>\n",
       "</table>\n",
       "<p>50039 rows × 18 columns</p>\n",
       "</div>"
      ],
      "text/plain": [
       "       loanNumber originationDate  loanAmount   loanTerm  intRate   \n",
       "0         5274786      2022-06-01    30834.27  73 months   0.0319  \\\n",
       "1         6224415      2017-08-01    35694.04      6 yrs   0.0190   \n",
       "2         5254898      2022-07-01    37729.22  62 months   0.0479   \n",
       "3         5267640      2022-06-01    39990.00        76m   0.0399   \n",
       "4         5385389      2021-11-01    33157.92  64 months   0.0199   \n",
       "...           ...             ...         ...        ...      ...   \n",
       "50038     6092858      2018-04-01    38662.94  61 months   0.0190   \n",
       "50039     6100955      2018-03-01    21000.00  62 months   0.0090   \n",
       "50040     5244136      2022-08-01    35417.32        61m   0.0624   \n",
       "50041     6118657      2018-02-01    26315.52  78 months   0.0569   \n",
       "50042     5281029      2022-05-01    47025.38         6y   0.0654   \n",
       "\n",
       "      vehicleModelName vehicleNewUsedCode  vehicleModelYear   \n",
       "0                CAMRY                New              2022  \\\n",
       "1                 C-HR                New              2018   \n",
       "2              4RUNNER                New              2022   \n",
       "3           TACOMA TRD                New              2022   \n",
       "4           RAV4 HYBRI                New              2021   \n",
       "...                ...                ...               ...   \n",
       "50038       TUNDRA 4X4                New              2018   \n",
       "50039          COROLLA                New              2018   \n",
       "50040       TACOMA SR5                New              2022   \n",
       "50041            CAMRY                New              2018   \n",
       "50042       HIGHLANDER                New              2022   \n",
       "\n",
       "       vehicleValueAmount  obligorCreditScore  coObligorIndicator   \n",
       "0                 34639.0                 697               False  \\\n",
       "1                 23470.0                 780               False   \n",
       "2                 53654.0                 821               False   \n",
       "3                 40105.0                 684               False   \n",
       "4                 43041.0                 756               False   \n",
       "...                   ...                 ...                 ...   \n",
       "50038             44730.0                 862                True   \n",
       "50039             22904.0                 832               False   \n",
       "50040             35283.0                 750                True   \n",
       "50041             25589.0                 757               False   \n",
       "50042             54504.0                 718               False   \n",
       "\n",
       "      paymentToIncomePercentage obligorState  scheduledInterestAmount   \n",
       "0                    0.16850000           FL                    78.85  \\\n",
       "1                    0.07520000           FL                    10.68   \n",
       "2                    0.22410000           NC                   148.37   \n",
       "3                    0.06570000           SC                   128.25   \n",
       "4                    0.01730000           NC                    46.63   \n",
       "...                         ...          ...                      ...   \n",
       "50038                0.07520000           NC                     7.44   \n",
       "50039                0.10850000           NC                     1.87   \n",
       "50040                0.07890000           FL                   181.54   \n",
       "50041                0.24800000           NC                    41.29   \n",
       "50042                0.12250000           AR                   245.09   \n",
       "\n",
       "       scheduledPrincipalAmount  beginningLoanBal  endingLoanBal   \n",
       "0                        392.25          29666.94       29296.33  \\\n",
       "1                        514.25           6753.51        6234.41   \n",
       "2                        559.99          36639.43       36639.43   \n",
       "3                        475.06          38617.99       38136.08   \n",
       "4                        508.08          28136.87       27629.24   \n",
       "...                         ...               ...            ...   \n",
       "50038                    668.53           4672.68        4003.23   \n",
       "50039                    356.19           2500.53        2144.18   \n",
       "50040                    507.12          34900.95       34382.46   \n",
       "50041                    376.48           8815.59        8432.39   \n",
       "50042                    520.44          44743.48       44167.96   \n",
       "\n",
       "      maturationDate  \n",
       "0             2028/7  \n",
       "1                6/0  \n",
       "2             2027/9  \n",
       "3            2028/10  \n",
       "4             2027/3  \n",
       "...              ...  \n",
       "50038         2023/5  \n",
       "50039         2023/5  \n",
       "50040         2027/9  \n",
       "50041         2024/8  \n",
       "50042            6/0  \n",
       "\n",
       "[50039 rows x 18 columns]"
      ]
     },
     "execution_count": 7,
     "metadata": {},
     "output_type": "execute_result"
    }
   ],
   "source": [
    "loanDF"
   ]
  },
  {
   "cell_type": "markdown",
   "id": "8e6576cd",
   "metadata": {},
   "source": [
    "# Question 1."
   ]
  },
  {
   "cell_type": "code",
   "execution_count": 11,
   "id": "ce74a36e",
   "metadata": {},
   "outputs": [],
   "source": [
    "def Maturation_Date(x,y):\n",
    "    if 'yrs' in x or 'y' in x:\n",
    "        x=x.replace('years','')\n",
    "        x=x.replace('yrs','')\n",
    "        x=x.replace('y','')\n",
    "        x=x.strip()\n",
    "        x=int(x)\n",
    "        year = x\n",
    "        month = 0\n",
    "    else:\n",
    "        x=x.replace('months','')\n",
    "        x=x.replace('m','')\n",
    "        x=x.strip()\n",
    "        x=int(x)\n",
    "        year=x//12\n",
    "        month=x%12\n",
    "    year += y[0]\n",
    "    t = month + y[1]\n",
    "    if t>12:\n",
    "        year += 1\n",
    "        month = t%12\n",
    "    else:\n",
    "        month = t\n",
    "    return {'year':year,'month':month}\n",
    "\n",
    "for i in loanDF.index:\n",
    "    y = loanDF.loc[i,'originationDate'].year\n",
    "    m = loanDF.loc[i,'originationDate'].month\n",
    "    mat_year = Maturation_Date((loanDF.loc[i,'loanTerm']),[y,m])['year']\n",
    "    mat_month = Maturation_Date((loanDF.loc[i,'loanTerm']),[y,m])['month']\n",
    "    loanDF.loc[i,'maturationDate']=(f\"{mat_year}/{mat_month}\")\n",
    "    \n",
    "    "
   ]
  },
  {
   "cell_type": "code",
   "execution_count": 12,
   "id": "ea94a8ec",
   "metadata": {},
   "outputs": [
    {
     "data": {
      "text/plain": [
       "0         2028/7\n",
       "1         2023/8\n",
       "2         2027/9\n",
       "3        2028/10\n",
       "4         2027/3\n",
       "          ...   \n",
       "50038     2023/5\n",
       "50039     2023/5\n",
       "50040     2027/9\n",
       "50041     2024/8\n",
       "50042     2028/5\n",
       "Name: maturationDate, Length: 50039, dtype: object"
      ]
     },
     "execution_count": 12,
     "metadata": {},
     "output_type": "execute_result"
    }
   ],
   "source": [
    "loanDF['maturationDate']"
   ]
  },
  {
   "cell_type": "markdown",
   "id": "64416d5d",
   "metadata": {},
   "source": [
    "# Question 2."
   ]
  },
  {
   "cell_type": "code",
   "execution_count": 15,
   "id": "d0d7ba87",
   "metadata": {},
   "outputs": [],
   "source": [
    "from datetime import datetime\n",
    "\n",
    "current_date = datetime.now()\n",
    "current_year = current_date.year\n",
    "current_month = current_date.month\n",
    "\n",
    "for i in loanDF.index:\n",
    "    x=loanDF.loc[i,'maturationDate'].split('/')\n",
    "    remaining_years=int(x[0])-current_year\n",
    "    remaining_months=int(x[1]) - current_month\n",
    "    if remaining_months<0:\n",
    "        remaining_years -= 1\n",
    "        remaining_months += 12\n",
    "    if ((remaining_years<0) or (remaining_months<0)):\n",
    "        loanDF.loc[i,'remainingTerm']=f\"loan expired\"\n",
    "    else:\n",
    "        loanDF.loc[i,'remainingTerm']=f\"{remaining_years} Years, {remaining_months} Months\"        \n",
    "    "
   ]
  },
  {
   "cell_type": "code",
   "execution_count": 16,
   "id": "95af62ad",
   "metadata": {},
   "outputs": [
    {
     "data": {
      "text/plain": [
       "0         5 Years, 0 Months\n",
       "1         0 Years, 1 Months\n",
       "2         4 Years, 2 Months\n",
       "3         5 Years, 3 Months\n",
       "4         3 Years, 8 Months\n",
       "                ...        \n",
       "50038          loan expired\n",
       "50039          loan expired\n",
       "50040     4 Years, 2 Months\n",
       "50041     1 Years, 1 Months\n",
       "50042    4 Years, 10 Months\n",
       "Name: remainingTerm, Length: 50039, dtype: object"
      ]
     },
     "execution_count": 16,
     "metadata": {},
     "output_type": "execute_result"
    }
   ],
   "source": [
    "loanDF['remainingTerm']"
   ]
  },
  {
   "cell_type": "markdown",
   "id": "1a4e74a8",
   "metadata": {},
   "source": [
    "# Question 3."
   ]
  },
  {
   "cell_type": "code",
   "execution_count": 18,
   "id": "d9a3814c",
   "metadata": {},
   "outputs": [
    {
     "name": "stdout",
     "output_type": "stream",
     "text": [
      "State with max total loan is: FL\n",
      "State with max no of loans taken is: FL\n"
     ]
    }
   ],
   "source": [
    "stateno={}\n",
    "stateloan={}\n",
    "for i in loanDF.index:\n",
    "    state=loanDF.loc[i,'obligorState']\n",
    "    loan=int(loanDF.loc[i,'loanAmount']) \n",
    "    if state in stateno:\n",
    "        stateno[state]=stateno[state]+1\n",
    "    else:\n",
    "        stateno[state]=1\n",
    "        \n",
    "    if state in stateloan:\n",
    "        stateloan[state]=stateloan[state]+loan\n",
    "    else:\n",
    "        stateloan[state]=loan\n",
    "\n",
    "print(\"State with max total loan is:\",max(stateloan, key=stateloan.get))\n",
    "print(\"State with max no of loans taken is:\",max(stateno, key=stateno.get))"
   ]
  },
  {
   "cell_type": "markdown",
   "id": "a03b47fb",
   "metadata": {},
   "source": [
    "# Question 4."
   ]
  },
  {
   "cell_type": "code",
   "execution_count": 31,
   "id": "60532430",
   "metadata": {},
   "outputs": [
    {
     "name": "stdout",
     "output_type": "stream",
     "text": [
      "fraction of used vehicle in month no. 0 is 0.08230152949745084\n",
      "fraction of used vehicle in month no. 1 is 0.08413547237076649\n",
      "fraction of used vehicle in month no. 2 is 0.08017366136034733\n",
      "fraction of used vehicle in month no. 3 is 0.06988390621443205\n",
      "fraction of used vehicle in month no. 4 is 0.057835613391168945\n",
      "fraction of used vehicle in month no. 5 is 0.07807118254879448\n",
      "fraction of used vehicle in month no. 6 is 0.07102973639787041\n",
      "fraction of used vehicle in month no. 7 is 0.07299721620785649\n",
      "fraction of used vehicle in month no. 8 is 0.0867992766726944\n",
      "fraction of used vehicle in month no. 9 is 0.06766428106701367\n",
      "fraction of used vehicle in month no. 10 is 0.06707983959168794\n",
      "fraction of used vehicle in month no. 11 is 0.06503067484662577\n"
     ]
    },
    {
     "data": {
      "image/png": "[encoded data removed]",
      "text/plain": [
       "<Figure size 640x480 with 1 Axes>"
      ]
     },
     "metadata": {},
     "output_type": "display_data"
    }
   ],
   "source": [
    "months = [[0, 0] for _ in range(12)]\n",
    "for i in loanDF.index:\n",
    "    m = loanDF.loc[i,'originationDate'].month\n",
    "    months[m-1][0] += 1\n",
    "    if loanDF.loc[i,'vehicleNewUsedCode'] != 'New':\n",
    "        months[m-1][1] += 1\n",
    "for i,month in enumerate(months):\n",
    "    print(f\"fraction of used vehicle in month no. {i} is {float(month[1]/month[0])}\")\n",
    "\n",
    "# Plot the graph\n",
    "fractions = [month_data[1] / month_data[0] if month_data[0] != 0 else 0 for month_data in months]\n",
    "\n",
    "months = [i for i in range(1, 13)]  # x-axis representing months (1 to 12)\n",
    "plt.plot(months, fractions, marker='o', linestyle='-', color='b')\n",
    "plt.xlabel('Month')\n",
    "plt.ylabel('Fraction of Used Vehicles')\n",
    "plt.title('Fraction of Used Vehicles by Month')\n",
    "plt.grid(True)\n",
    "plt.xticks(months)\n",
    "plt.show()"
   ]
  },
  {
   "cell_type": "markdown",
   "id": "483106a0",
   "metadata": {},
   "source": [
    "# Question 5."
   ]
  },
  {
   "cell_type": "code",
   "execution_count": 57,
   "id": "d398a4b0",
   "metadata": {},
   "outputs": [
    {
     "name": "stdout",
     "output_type": "stream",
     "text": [
      "percentage of defaulted loans is 5.743175732384797\n"
     ]
    }
   ],
   "source": [
    "defaultedLoan=0\n",
    "for i in loanDF.index:\n",
    "    if loanDF.loc[i,'endingLoanBal']==loanDF.loc[i,'beginningLoanBal']:\n",
    "        loanDF.loc[i,'defaultedStatus']=True\n",
    "        defaultedLoan+=1\n",
    "    else:\n",
    "        loanDF.loc[i,'defaultedStatus']=False\n",
    "defaultedLoanPercentage=(defaultedLoan*100)/i\n",
    "print(\"percentage of defaulted loans is\",defaultedLoanPercentage)"
   ]
  },
  {
   "cell_type": "markdown",
   "id": "c5b75198",
   "metadata": {},
   "source": [
    "# Question 6."
   ]
  },
  {
   "cell_type": "code",
   "execution_count": 58,
   "id": "caebb571",
   "metadata": {},
   "outputs": [
    {
     "name": "stdout",
     "output_type": "stream",
     "text": [
      "percentage of loans with interestrates <3% and are used and coowned is: 0.8968609865470852\n"
     ]
    }
   ],
   "source": [
    "noOfCoownedLoan=0\n",
    "noOfLoanLt3=0\n",
    "for i in loanDF.index:\n",
    "    if loanDF.loc[i,'coObligorIndicator']==True and loanDF.loc[i,'vehicleNewUsedCode']=='Used':\n",
    "        noOfCoownedLoan+=1\n",
    "        if loanDF.loc[i,'intRate']<=0.03:\n",
    "            noOfLoanLt3+=1\n",
    "percentageOfCoownedLoan=(noOfLoanLt3*100)/noOfCoownedLoan\n",
    "print(\"percentage of loans with interestrates <3% and are used and coowned is:\",percentageOfCoownedLoan)"
   ]
  },
  {
   "cell_type": "markdown",
   "id": "5fea7bf3",
   "metadata": {},
   "source": [
    "# Question 7."
   ]
  },
  {
   "cell_type": "code",
   "execution_count": 59,
   "id": "fbfc8ac6",
   "metadata": {},
   "outputs": [
    {
     "name": "stdout",
     "output_type": "stream",
     "text": [
      "The most famous model in FL is COROLLA 2022\n"
     ]
    }
   ],
   "source": [
    "vehicalModel={}\n",
    "for i in loanDF.index:\n",
    "    if loanDF.loc[i,'obligorState']=='FL':\n",
    "        x=loanDF.loc[i,'vehicleModelName']+\" \"+str(loanDF.loc[i,'vehicleModelYear'])\n",
    "        if x in vehicalModel:\n",
    "            vehicalModel[x]=vehicalModel[x]+1\n",
    "        else:\n",
    "            vehicalModel[x]=1\n",
    "print(\"The most famous model in FL is\",max(vehicalModel, key=vehicalModel.get))"
   ]
  },
  {
   "cell_type": "markdown",
   "id": "b0c3feff",
   "metadata": {},
   "source": [
    "# Question 8."
   ]
  },
  {
   "cell_type": "code",
   "execution_count": 69,
   "id": "61adfd5f",
   "metadata": {},
   "outputs": [
    {
     "name": "stdout",
     "output_type": "stream",
     "text": [
      "obligorCreditScore\n",
      "(-0.893, 178.6]      768\n",
      "(178.6, 357.2]         0\n",
      "(357.2, 535.8]         0\n",
      "(535.8, 714.4]     12838\n",
      "(714.4, 893.0]     36433\n",
      "dtype: int64\n",
      "obligorCreditScore\n",
      "(-0.893, 178.6]      66\n",
      "(178.6, 357.2]        0\n",
      "(357.2, 535.8]        0\n",
      "(535.8, 714.4]      960\n",
      "(714.4, 893.0]     1848\n",
      "Name: defaultedStatus, dtype: object\n",
      "                    Bucket_Counts Defaulted_Counts Defaulted_Ratio\n",
      "obligorCreditScore                                                \n",
      "(-0.893, 178.6]               768               66        0.085938\n",
      "(178.6, 357.2]                  0                0             0.0\n",
      "(357.2, 535.8]                  0                0             0.0\n",
      "(535.8, 714.4]              12838              960        0.074778\n",
      "(714.4, 893.0]              36433             1848        0.050723\n"
     ]
    }
   ],
   "source": [
    "buckets = pd.cut(loanDF['obligorCreditScore'], bins=5)\n",
    "grouped_data = loanDF.groupby(buckets)\n",
    "bucket_counts = grouped_data.size()\n",
    "defaulted_counts = grouped_data['defaultedStatus'].sum()\n",
    "result_df = pd.DataFrame({'Bucket_Counts': bucket_counts, 'Defaulted_Counts': defaulted_counts})\n",
    "result_df['Defaulted_Ratio'] = result_df['Defaulted_Counts'] / result_df['Bucket_Counts'].replace(0, 1)\n",
    "\n",
    "print(bucket_counts)\n",
    "print(defaulted_counts)\n",
    "print(result_df)"
   ]
  },
  {
   "cell_type": "code",
   "execution_count": 70,
   "id": "682a7529",
   "metadata": {},
   "outputs": [
    {
     "data": {
      "image/png": "[encoded data removed]",
      "text/plain": [
       "<Figure size 640x480 with 1 Axes>"
      ]
     },
     "metadata": {},
     "output_type": "display_data"
    }
   ],
   "source": [
    "bucket_ranges = result_df.index.astype(str)\n",
    "\n",
    "plt.bar(bucket_ranges, result_df['Defaulted_Ratio'], color='blue')\n",
    "plt.xlabel('Bucket Range')\n",
    "plt.ylabel('Defaulted Ratio')\n",
    "plt.title('Defaulted Ratio for Each Bucket Range')\n",
    "plt.xticks(rotation=45, ha='right')  # Rotate the x-axis labels for better visibility\n",
    "plt.tight_layout()  # To prevent label cutoffs\n",
    "plt.show()\n",
    "\n"
   ]
  },
  {
   "cell_type": "code",
   "execution_count": null,
   "id": "01b3abdc",
   "metadata": {},
   "outputs": [],
   "source": []
  }
 ],
 "metadata": {
  "kernelspec": {
   "display_name": "Python 3 (ipykernel)",
   "language": "python",
   "name": "python3"
  },
  "language_info": {
   "codemirror_mode": {
    "name": "ipython",
    "version": 3
   },
   "file_extension": ".py",
   "mimetype": "text/x-python",
   "name": "python",
   "nbconvert_exporter": "python",
   "pygments_lexer": "ipython3",
   "version": "3.11.3"
  }
 },
 "nbformat": 4,
 "nbformat_minor": 5
}
